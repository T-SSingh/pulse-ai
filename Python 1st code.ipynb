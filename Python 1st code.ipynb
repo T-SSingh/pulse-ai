{
 "cells": [
  {
   "cell_type": "code",
   "execution_count": 1,
   "id": "4aa0ce06-34bb-41c2-a966-2c19c329d5ba",
   "metadata": {},
   "outputs": [
    {
     "name": "stdout",
     "output_type": "stream",
     "text": [
      "hello\n",
      "welcome\n",
      "hi\n"
     ]
    }
   ],
   "source": [
    "print(\"hello\")\n",
    "print(\"welcome\")\n",
    "print(\"hi\")\n"
   ]
  },
  {
   "cell_type": "code",
   "execution_count": 2,
   "id": "a00e64b0-db9d-4988-9558-ee029ff0351a",
   "metadata": {},
   "outputs": [
    {
     "name": "stdout",
     "output_type": "stream",
     "text": [
      "\n",
      "hi\n",
      "hello\n",
      "welcome\n"
     ]
    }
   ],
   "source": [
    "print(\"\\nhi\\nhello\\nwelcome\")"
   ]
  },
  {
   "cell_type": "code",
   "execution_count": 3,
   "id": "d5f7066b-3f99-459f-b064-0abb95e3e700",
   "metadata": {},
   "outputs": [
    {
     "name": "stdout",
     "output_type": "stream",
     "text": [
      "\thi\thello\twelcome\n"
     ]
    }
   ],
   "source": [
    "print(\"\\thi\\thello\\twelcome\")"
   ]
  },
  {
   "cell_type": "code",
   "execution_count": 4,
   "id": "73205220-dbd3-4a7b-9b53-d23cc39d41db",
   "metadata": {},
   "outputs": [
    {
     "name": "stdout",
     "output_type": "stream",
     "text": [
      "hello\n",
      "hi\n"
     ]
    }
   ],
   "source": [
    "print(\"hello\")\n",
    "#print(\"welcome\")\n",
    "print(\"hi\")"
   ]
  },
  {
   "cell_type": "code",
   "execution_count": 5,
   "id": "2cd2bbfe-2174-4cbf-b826-2a45da826921",
   "metadata": {},
   "outputs": [
    {
     "name": "stdout",
     "output_type": "stream",
     "text": [
      "hello\n",
      "welcome\n"
     ]
    }
   ],
   "source": [
    "#this is a simple print statement with new-line escape charector \n",
    "print(\"hello\\nwelcome\")"
   ]
  },
  {
   "cell_type": "code",
   "execution_count": 6,
   "id": "b50e2a7c-7e3e-4b41-92a4-287eb98ed7bd",
   "metadata": {},
   "outputs": [
    {
     "name": "stdout",
     "output_type": "stream",
     "text": [
      "hello\n",
      "welcome \n",
      "hi\n"
     ]
    }
   ],
   "source": [
    "#this is a simple print statement with new-line escape charector \n",
    "print(\"hello\\nwelcome \\nhi\")"
   ]
  },
  {
   "cell_type": "code",
   "execution_count": null,
   "id": "99cf7007-c30c-4ec6-bd1d-df7463abf824",
   "metadata": {},
   "outputs": [],
   "source": []
  }
 ],
 "metadata": {
  "kernelspec": {
   "display_name": "Python 3 [3.10]",
   "language": "python",
   "name": "python3"
  },
  "language_info": {
   "codemirror_mode": {
    "name": "ipython",
    "version": 3
   },
   "file_extension": ".py",
   "mimetype": "text/x-python",
   "name": "python",
   "nbconvert_exporter": "python",
   "pygments_lexer": "ipython3",
   "version": "3.10.2"
  }
 },
 "nbformat": 4,
 "nbformat_minor": 5
}
